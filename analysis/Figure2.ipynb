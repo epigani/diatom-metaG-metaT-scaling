{
 "cells": [
  {
   "cell_type": "code",
   "execution_count": 2,
   "id": "2a0234d7",
   "metadata": {},
   "outputs": [
    {
     "name": "stdout",
     "output_type": "stream",
     "text": [
      "The autoreload extension is already loaded. To reload it, use:\n",
      "  %reload_ext autoreload\n"
     ]
    }
   ],
   "source": [
    "import matplotlib.pyplot as plt\n",
    "import numpy as np\n",
    "import seaborn as sns\n",
    "import mpmath\n",
    "\n",
    "# Figure and color settings\n",
    "golden = (1 + 5 ** 0.5) / 2\n",
    "figsizes = {\n",
    "    \"1 column\": (3.43, 3.43/golden),\n",
    "    \"1.5 columns\": (4.49, 4.49/golden),\n",
    "    \"2 columns\": (7.01, 7.01/golden)\n",
    "}\n",
    "\n",
    "sns.set_theme(\n",
    "    rc={\n",
    "        'figure.figsize':figsizes[\"2 columns\"],\n",
    "        'figure.dpi': 200,\n",
    "        'savefig.dpi': 300\n",
    "    },\n",
    "    font=\"Helvetica Neue\",\n",
    "    font_scale=1.3,\n",
    "    style=\"ticks\"\n",
    ")\n",
    "\n",
    "plt.rcParams.update({\n",
    "    'legend.edgecolor': 'k',\n",
    "    'legend.facecolor': 'w',\n",
    "    'legend.frameon': True,\n",
    "    'legend.framealpha': 1,\n",
    "    'legend.fancybox': False,\n",
    "    'legend.fontsize': 12,\n",
    "    'axes.linewidth': 1.5,\n",
    "    'axes.edgecolor': 'k',\n",
    "    'xtick.labelsize': 14,\n",
    "    'ytick.labelsize': 14,\n",
    "    'axes.labelsize': 14,\n",
    "    \"text.usetex\": True,\n",
    "    \"font.family\": \"sans-serif\",\n",
    "    \"font.sans-serif\": [\"Helvetica\"],\n",
    "    \"text.latex.preamble\": r\"\\usepackage{amsmath, helvet} \\renewcommand{\\familydefault}{\\sfdefault}\"\n",
    "})\n",
    "\n",
    "%load_ext autoreload\n"
   ]
  },
  {
   "cell_type": "code",
   "execution_count": 3,
   "id": "0568bc3a",
   "metadata": {},
   "outputs": [],
   "source": [
    "def upper_incomplete_gamma(a, z):\n",
    "    \"\"\"\n",
    "    Computes the upper incomplete Gamma function Gamma(a, z) for negative and positive values of a.\n",
    "    \n",
    "    Parameters:\n",
    "    a : float\n",
    "        Shape parameter, can be negative.\n",
    "    z : float\n",
    "        Lower limit of the integral.\n",
    "    \n",
    "    Returns:\n",
    "    float\n",
    "        The value of the upper incomplete Gamma function Gamma(a, z).\n",
    "    \"\"\"\n",
    "    return mpmath.gammainc(a, z, mpmath.inf)\n",
    "\n",
    "def pareto3exp(x, alpha, beta, k):\n",
    "    \"\"\"\n",
    "    Computes the Pareto-like function with an exponential cutoff.\n",
    "\n",
    "    Parameters:\n",
    "    x (float or array-like): The point(s) at which to evaluate the function.\n",
    "    alpha (float): Shape parameter, must be positive.\n",
    "    beta (float): Exponential cutoff parameter, must be positive.\n",
    "    k (float): Scale parameter, must be positive.\n",
    "\n",
    "    Returns:\n",
    "    float or array-like: The computed value of the function.\n",
    "    \"\"\"\n",
    "    # Ensure parameters are positive\n",
    "    if alpha <= 0 or beta <= 0 or k <= 0:\n",
    "        raise ValueError(\"All parameters (alpha, beta, k) must be positive.\")\n",
    "    \n",
    "    # Compute the exponential integral using the Gamma function\n",
    "    z = k * beta\n",
    "    exp_integral = (z ** alpha) * upper_incomplete_gamma(-alpha, z)\n",
    "    #print(f'Exponential Integral (using mpmath): {exp_integral}')\n",
    "\n",
    "    # Calculate the prefactor\n",
    "    prefactor = np.exp(-k * beta) / (k * exp_integral)\n",
    "    \n",
    "    # Calculate the main expression\n",
    "    result = prefactor * (1 + x / k) ** (-1 - alpha) * np.exp(-beta * x)\n",
    "    \n",
    "    return np.array(result, dtype=float)"
   ]
  },
  {
   "cell_type": "code",
   "execution_count": null,
   "id": "e134ee07",
   "metadata": {},
   "outputs": [],
   "source": [
    "def k_eff(B0, D0, B1, D1, b0, b1, d1, Delta):\n",
    "    num = (B0+D0)*Delta\n",
    "    den = B1+D1+d1*2\n",
    "    return num/den"
   ]
  }
 ],
 "metadata": {
  "kernelspec": {
   "display_name": "NLEnv",
   "language": "python",
   "name": "python3"
  },
  "language_info": {
   "codemirror_mode": {
    "name": "ipython",
    "version": 3
   },
   "file_extension": ".py",
   "mimetype": "text/x-python",
   "name": "python",
   "nbconvert_exporter": "python",
   "pygments_lexer": "ipython3",
   "version": "3.10.10"
  }
 },
 "nbformat": 4,
 "nbformat_minor": 5
}
